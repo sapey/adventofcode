{
 "cells": [
  {
   "cell_type": "code",
   "execution_count": null,
   "metadata": {},
   "outputs": [],
   "source": [
    "import numpy as np\n",
    "from functools import reduce"
   ]
  },
  {
   "cell_type": "code",
   "execution_count": null,
   "metadata": {},
   "outputs": [],
   "source": [
    "with open('example.txt', 'r') as f:\n",
    "    lines = f.readlines()\n",
    "    lines = [entry.strip() for entry in lines]\n",
    "\n",
    "trees = np.zeros((len(lines), len(lines[0])), dtype=int)\n",
    "for i, line in enumerate(lines):\n",
    "    trees[i, :] = np.array(list(line))"
   ]
  },
  {
   "cell_type": "markdown",
   "metadata": {},
   "source": [
    "PARTIE 1 :"
   ]
  },
  {
   "cell_type": "code",
   "execution_count": null,
   "metadata": {},
   "outputs": [],
   "source": [
    "\n",
    "visible_trees = 2*len(lines[0]) + 2 *(len(lines)-2)\n",
    "\n",
    "for i in range(1, trees.shape[0]-1):\n",
    "    for j in range(1, trees.shape[1]-1):\n",
    "        tree_column = trees[:, j] - trees[i, j]\n",
    "        tree_row = trees[i, :] - trees[i, j]\n",
    "        routes = [tree_row[:j], tree_row[j+1:], tree_column[:i], tree_column[i+1:]]\n",
    "        if sum(list(map(lambda route: (route<0).all(), routes))) > 0:\n",
    "            visible_trees += 1\n",
    "visible_trees"
   ]
  },
  {
   "cell_type": "markdown",
   "metadata": {},
   "source": [
    "PARTIE 2"
   ]
  },
  {
   "cell_type": "code",
   "execution_count": null,
   "metadata": {},
   "outputs": [],
   "source": [
    "scenic_scores = np.zeros((len(lines), len(lines[0])), dtype=int)\n",
    "\n",
    "def compute_scenic_score(route):\n",
    "    big_trees_array = list(route >= 0)\n",
    "    if True in big_trees_array:\n",
    "        return big_trees_array.index(True) + 1\n",
    "    else:\n",
    "        return len(big_trees_array)\n",
    "\n",
    "for i in range(1, trees.shape[0]-1):\n",
    "    for j in range(1, trees.shape[1]-1):\n",
    "        tree_column = trees[:, j] - trees[i, j]\n",
    "        tree_row = trees[i, :] - trees[i, j]\n",
    "        routes = [tree_row[j-1::-1], tree_row[j+1:], tree_column[i-1::-1], tree_column[i+1:]]\n",
    "        scenic_scores[i,j] = np.prod(list(map(compute_scenic_score, routes)))\n",
    "    \n",
    "np.max(scenic_scores)"
   ]
  }
 ],
 "metadata": {
  "language_info": {
   "name": "python"
  },
  "orig_nbformat": 4
 },
 "nbformat": 4,
 "nbformat_minor": 2
}
